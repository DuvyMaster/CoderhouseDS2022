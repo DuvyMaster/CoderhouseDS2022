{
 "cells": [
  {
   "cell_type": "markdown",
   "id": "8ba0b605",
   "metadata": {},
   "source": [
    "# Desafío Clase 34 - Análisis Univariado\n",
    "\n",
    "En este desafío, haré un análisis univariado del dataset presentado en el desafío *Definición de la Fuente de Información*, recopilando información sobre las ventas en la cadena de retail ecuatoriana La Favorita (extraído de la siguiente competición de Kaggle: https://www.kaggle.com/competitions/store-sales-time-series-forecasting/data?select=train.csv)\n",
    "\n",
    "En el análisis, se dará respuesta a las siguientes preguntas acerca de la información contenida en el dataset:\n",
    "* ¿Cuántas sucursales se relevaron? ¿Cómo se encuentran distribuidas geográficamente?\n",
    "* ¿De qué manera se distribuyen los datos de ventas entre las sucursales relevadas? ¿Y por rubro?\n",
    "* ¿Cuántas transacciones se registran por sucursal? ¿Hay intervalos de tiempo en los que pueda considerarse que faltan datos?"
   ]
  },
  {
   "cell_type": "code",
   "execution_count": 1,
   "id": "88a24a1b",
   "metadata": {},
   "outputs": [],
   "source": [
    "import pandas as pd\n",
    "import numpy as np\n",
    "import matplotlib.pyplot as plt\n",
    "import seaborn as sns"
   ]
  },
  {
   "cell_type": "markdown",
   "id": "73cc653f",
   "metadata": {},
   "source": [
    "## ¿Cuántas sucursales se relevaron?"
   ]
  },
  {
   "cell_type": "code",
   "execution_count": 3,
   "id": "3805ff98",
   "metadata": {},
   "outputs": [],
   "source": [
    "sucursales = pd.read_csv('E:\\DESCARGAS\\Archivo_de_apuntes_recursos_Coder_(no_borrar)\\Data Science_Proyecto Final\\store-sales-time-series-forecasting\\stores.csv')"
   ]
  },
  {
   "cell_type": "code",
   "execution_count": 4,
   "id": "ba8cad9e",
   "metadata": {},
   "outputs": [
    {
     "name": "stdout",
     "output_type": "stream",
     "text": [
      "<class 'pandas.core.frame.DataFrame'>\n",
      "RangeIndex: 54 entries, 0 to 53\n",
      "Data columns (total 5 columns):\n",
      " #   Column     Non-Null Count  Dtype \n",
      "---  ------     --------------  ----- \n",
      " 0   store_nbr  54 non-null     int64 \n",
      " 1   city       54 non-null     object\n",
      " 2   state      54 non-null     object\n",
      " 3   type       54 non-null     object\n",
      " 4   cluster    54 non-null     int64 \n",
      "dtypes: int64(2), object(3)\n",
      "memory usage: 2.2+ KB\n"
     ]
    }
   ],
   "source": [
    "sucursales.info()"
   ]
  },
  {
   "cell_type": "code",
   "execution_count": 10,
   "id": "18b3c83a",
   "metadata": {},
   "outputs": [
    {
     "data": {
      "text/html": [
       "<div>\n",
       "<style scoped>\n",
       "    .dataframe tbody tr th:only-of-type {\n",
       "        vertical-align: middle;\n",
       "    }\n",
       "\n",
       "    .dataframe tbody tr th {\n",
       "        vertical-align: top;\n",
       "    }\n",
       "\n",
       "    .dataframe thead th {\n",
       "        text-align: right;\n",
       "    }\n",
       "</style>\n",
       "<table border=\"1\" class=\"dataframe\">\n",
       "  <thead>\n",
       "    <tr style=\"text-align: right;\">\n",
       "      <th></th>\n",
       "      <th>store_nbr</th>\n",
       "      <th>city</th>\n",
       "      <th>state</th>\n",
       "      <th>type</th>\n",
       "      <th>cluster</th>\n",
       "    </tr>\n",
       "  </thead>\n",
       "  <tbody>\n",
       "    <tr>\n",
       "      <th>0</th>\n",
       "      <td>1</td>\n",
       "      <td>Quito</td>\n",
       "      <td>Pichincha</td>\n",
       "      <td>D</td>\n",
       "      <td>13</td>\n",
       "    </tr>\n",
       "    <tr>\n",
       "      <th>1</th>\n",
       "      <td>2</td>\n",
       "      <td>Quito</td>\n",
       "      <td>Pichincha</td>\n",
       "      <td>D</td>\n",
       "      <td>13</td>\n",
       "    </tr>\n",
       "    <tr>\n",
       "      <th>2</th>\n",
       "      <td>3</td>\n",
       "      <td>Quito</td>\n",
       "      <td>Pichincha</td>\n",
       "      <td>D</td>\n",
       "      <td>8</td>\n",
       "    </tr>\n",
       "    <tr>\n",
       "      <th>3</th>\n",
       "      <td>4</td>\n",
       "      <td>Quito</td>\n",
       "      <td>Pichincha</td>\n",
       "      <td>D</td>\n",
       "      <td>9</td>\n",
       "    </tr>\n",
       "    <tr>\n",
       "      <th>4</th>\n",
       "      <td>5</td>\n",
       "      <td>Santo Domingo</td>\n",
       "      <td>Santo Domingo de los Tsachilas</td>\n",
       "      <td>D</td>\n",
       "      <td>4</td>\n",
       "    </tr>\n",
       "  </tbody>\n",
       "</table>\n",
       "</div>"
      ],
      "text/plain": [
       "   store_nbr           city                           state type  cluster\n",
       "0          1          Quito                       Pichincha    D       13\n",
       "1          2          Quito                       Pichincha    D       13\n",
       "2          3          Quito                       Pichincha    D        8\n",
       "3          4          Quito                       Pichincha    D        9\n",
       "4          5  Santo Domingo  Santo Domingo de los Tsachilas    D        4"
      ]
     },
     "execution_count": 10,
     "metadata": {},
     "output_type": "execute_result"
    }
   ],
   "source": [
    "sucursales.head()"
   ]
  },
  {
   "cell_type": "code",
   "execution_count": 9,
   "id": "30c45bcd",
   "metadata": {},
   "outputs": [
    {
     "data": {
      "text/plain": [
       "54"
      ]
     },
     "execution_count": 9,
     "metadata": {},
     "output_type": "execute_result"
    }
   ],
   "source": [
    "len(pd.unique(sucursales['store_nbr']))"
   ]
  },
  {
   "cell_type": "markdown",
   "id": "9745461d",
   "metadata": {},
   "source": [
    "**Hay en total 54 sucursales.**"
   ]
  },
  {
   "cell_type": "markdown",
   "id": "53c862fb",
   "metadata": {},
   "source": [
    "## ¿Cómo se distribuyen geográficamente las sucursales relevadas?"
   ]
  },
  {
   "cell_type": "code",
   "execution_count": 11,
   "id": "2968ddfa",
   "metadata": {},
   "outputs": [
    {
     "data": {
      "text/plain": [
       "Quito            18\n",
       "Guayaquil         8\n",
       "Cuenca            3\n",
       "Santo Domingo     3\n",
       "Manta             2\n",
       "Latacunga         2\n",
       "Machala           2\n",
       "Ambato            2\n",
       "Quevedo           1\n",
       "Esmeraldas        1\n",
       "Loja              1\n",
       "Libertad          1\n",
       "Playas            1\n",
       "Daule             1\n",
       "Babahoyo          1\n",
       "Salinas           1\n",
       "Puyo              1\n",
       "Guaranda          1\n",
       "Ibarra            1\n",
       "Riobamba          1\n",
       "Cayambe           1\n",
       "El Carmen         1\n",
       "Name: city, dtype: int64"
      ]
     },
     "execution_count": 11,
     "metadata": {},
     "output_type": "execute_result"
    }
   ],
   "source": [
    "pd.value_counts(sucursales['city'])"
   ]
  },
  {
   "cell_type": "code",
   "execution_count": 12,
   "id": "6200e9a0",
   "metadata": {},
   "outputs": [],
   "source": [
    "ciudades = pd.value_counts(sucursales['city'])"
   ]
  },
  {
   "cell_type": "code",
   "execution_count": 15,
   "id": "55c49af6",
   "metadata": {},
   "outputs": [],
   "source": [
    "ciudades = pd.DataFrame(ciudades)"
   ]
  },
  {
   "cell_type": "code",
   "execution_count": 16,
   "id": "3c514298",
   "metadata": {},
   "outputs": [
    {
     "data": {
      "text/html": [
       "<div>\n",
       "<style scoped>\n",
       "    .dataframe tbody tr th:only-of-type {\n",
       "        vertical-align: middle;\n",
       "    }\n",
       "\n",
       "    .dataframe tbody tr th {\n",
       "        vertical-align: top;\n",
       "    }\n",
       "\n",
       "    .dataframe thead th {\n",
       "        text-align: right;\n",
       "    }\n",
       "</style>\n",
       "<table border=\"1\" class=\"dataframe\">\n",
       "  <thead>\n",
       "    <tr style=\"text-align: right;\">\n",
       "      <th></th>\n",
       "      <th>city</th>\n",
       "    </tr>\n",
       "  </thead>\n",
       "  <tbody>\n",
       "    <tr>\n",
       "      <th>Quito</th>\n",
       "      <td>18</td>\n",
       "    </tr>\n",
       "    <tr>\n",
       "      <th>Guayaquil</th>\n",
       "      <td>8</td>\n",
       "    </tr>\n",
       "    <tr>\n",
       "      <th>Cuenca</th>\n",
       "      <td>3</td>\n",
       "    </tr>\n",
       "    <tr>\n",
       "      <th>Santo Domingo</th>\n",
       "      <td>3</td>\n",
       "    </tr>\n",
       "    <tr>\n",
       "      <th>Manta</th>\n",
       "      <td>2</td>\n",
       "    </tr>\n",
       "  </tbody>\n",
       "</table>\n",
       "</div>"
      ],
      "text/plain": [
       "               city\n",
       "Quito            18\n",
       "Guayaquil         8\n",
       "Cuenca            3\n",
       "Santo Domingo     3\n",
       "Manta             2"
      ]
     },
     "execution_count": 16,
     "metadata": {},
     "output_type": "execute_result"
    }
   ],
   "source": [
    "ciudades.head()"
   ]
  },
  {
   "cell_type": "code",
   "execution_count": 51,
   "id": "20b509d7",
   "metadata": {},
   "outputs": [],
   "source": [
    "sns.set(rc = {'figure.figsize':(10,6)})"
   ]
  },
  {
   "cell_type": "code",
   "execution_count": 55,
   "id": "c24d27fe",
   "metadata": {},
   "outputs": [
    {
     "data": {
      "image/png": "[encoded data removed]",
      "text/plain": [
       "<Figure size 720x432 with 1 Axes>"
      ]
     },
     "metadata": {},
     "output_type": "display_data"
    }
   ],
   "source": [
    "suc_por_ciudad = sns.countplot(\n",
    "    y=sucursales.city, \n",
    "    palette='Set2', \n",
    "    order = sucursales['city'].value_counts().index).set(title='Sucursales por ciudad')"
   ]
  },
  {
   "cell_type": "markdown",
   "id": "20977c46",
   "metadata": {},
   "source": [
    "**Se observa que las sucursales se concentran en la ciudad de Quito y, en menor medida, en Guayaquil. Resulta algo esperable al ser las principales ciudades del país en población.**"
   ]
  },
  {
   "cell_type": "code",
   "execution_count": null,
   "id": "f4e3d839",
   "metadata": {},
   "outputs": [],
   "source": [
    "fig,ax=plt.subplots(figsize=(12,4))"
   ]
  }
 ],
 "metadata": {
  "kernelspec": {
   "display_name": "Python 3 (ipykernel)",
   "language": "python",
   "name": "python3"
  },
  "language_info": {
   "codemirror_mode": {
    "name": "ipython",
    "version": 3
   },
   "file_extension": ".py",
   "mimetype": "text/x-python",
   "name": "python",
   "nbconvert_exporter": "python",
   "pygments_lexer": "ipython3",
   "version": "3.9.5"
  }
 },
 "nbformat": 4,
 "nbformat_minor": 5
}
